{
 "cells": [
  {
   "attachments": {},
   "cell_type": "markdown",
   "metadata": {},
   "source": [
    "# **S**tructured **Q**uery **L**anguage\n",
    "\n",
    "*\"Structured Query Language, abbreviated as SQL, is a domain-specific language used in programming and designed for  \n",
    "managing data held in a relational database management system (RDBMS),  or for stream processing in a relational data  \n",
    "stream management system (RDSMS). It is particularly useful in handling structured data,  i.e. data incorporating relations  \n",
    "among entities and variables.\"*"
   ]
  },
  {
   "attachments": {},
   "cell_type": "markdown",
   "metadata": {},
   "source": [
    "### **D**ata **D**efinition **L**anguage (DDL)\n",
    "* DDL changes the structure of the table like creating a table, deleting a table, altering a table, etc.\n",
    "* All the command of DDL are auto-committed that means it permanently save all the changes in the database."
   ]
  },
  {
   "attachments": {},
   "cell_type": "markdown",
   "metadata": {},
   "source": [
    "### **D**ata **M**anipulation **L**anguage (DML)\n",
    "* DML commands are used to modify the database. It is responsible for all form of changes in the database.\n",
    "* The command of DML is not auto-committed that means it can't permanently save all the changes in the database. They can be rollback."
   ]
  },
  {
   "attachments": {},
   "cell_type": "markdown",
   "metadata": {},
   "source": [
    "### **D**ata **C**ontrol **L**anguage (DCL)\n",
    "* DCL commands are used to grant and take back authority from any database user."
   ]
  },
  {
   "attachments": {},
   "cell_type": "markdown",
   "metadata": {},
   "source": [
    "### **T**ransaction **C**ontrol **L**anguage (TCL)\n",
    "* TCL commands can only use with DML commands like INSERT, DELETE and UPDATE only.\n",
    "* These operations are automatically committed in the database that's why they cannot be used while creating tables or dropping them."
   ]
  },
  {
   "attachments": {},
   "cell_type": "markdown",
   "metadata": {},
   "source": [
    "### **D**ata **Q**uery **L**anguage (DQL)\n",
    "* DQL is used to fetch the data from the database."
   ]
  },
  {
   "attachments": {},
   "cell_type": "markdown",
   "metadata": {},
   "source": [
    "### Overview in a Mindmap\n",
    "![](https://33333.cdn.cke-cs.com/kSW7V9NHUXugvhoQeFaf/images/58f7bfdb776c58aa1e1c15b5e7195f45e74a9fc9a308bcc5.png)"
   ]
  },
  {
   "attachments": {},
   "cell_type": "markdown",
   "metadata": {},
   "source": [
    "## **Order of Execution**\n",
    "*Queries aren’t actually read from top to bottom when carried out:*\n",
    "\n",
    "1. **FROM/JOIN**: The FROM and/or JOIN clauses are executed first to determine the data of interest.\n",
    "\n",
    "2. **WHERE**: The WHERE clause is executed to filter out records that do not meet the constraints.\n",
    "\n",
    "3. **GROUP BY**: The GROUP BY clause is executed to group the data based on the values in one or more columns.\n",
    "\n",
    "4. **HAVING**: The HAVING clause is executed to remove the created grouped records that don’t meet the constraints.\n",
    "\n",
    "5. **SELECT**: The SELECT clause is executed to derive all desired columns and expressions.\n",
    "\n",
    "6. **ORDER BY**: The ORDER BY clause is executed to sort the derived values in ascending or descending order.\n",
    "\n",
    "7. **LIMIT/OFFSET**: Finally, the LIMIT and/or OFFSET clauses are executed to keep or skip a specified number of rows."
   ]
  },
  {
   "attachments": {},
   "cell_type": "markdown",
   "metadata": {},
   "source": [
    "## **MySQL Data Types**\n"
   ]
  },
  {
   "attachments": {},
   "cell_type": "markdown",
   "metadata": {},
   "source": [
    "### String\n",
    "**CHAR(Size)**\tIt is used to specify a fixed length string that can contain numbers, letters, and special characters. Its size can be 0 to 255 characters. Default is 1.  \n",
    "**VARCHAR(Size)**\tIt is used to specify a variable length string that can contain numbers, letters, and special characters. Its size can be from 0 to 65535 characters.  \n",
    "**BINARY(Size)**\tIt is equal to CHAR() but stores binary byte strings. Its size parameter specifies the column length in the bytes. Default is 1.  \n",
    "**VARBINARY(Size)**\tIt is equal to VARCHAR() but stores binary byte strings. Its size parameter specifies the maximum column length in bytes.  \n",
    "**TEXT(Size)**\tIt holds a string that can contain a maximum length of 255 characters.  \n",
    "**TINYTEXT**\tIt holds a string with a maximum length of 255 characters.  \n",
    "**MEDIUMTEXT**\tIt holds a string with a maximum length of 16,777,215.  \n",
    "**LONGTEXT**\tIt holds a string with a maximum length of 4,294,967,295 characters.  \n",
    "**ENUM(val1, val2, val3,...)**\tIt is used when a string object having only one value, chosen from a list of possible values. It contains 65535 values in an ENUM list. If you insert a value that is not in the list, a blank value will be inserted.  \n",
    "**SET( val1,val2,val3,....)**\tIt is used to specify a string that can have 0 or more values, chosen from a list of possible values. You can list up to 64 values at one time in a SET list.  \n",
    "**BLOB(size)**\tIt is used for BLOBs (Binary Large Objects). It can hold up to 65,535 bytes.  "
   ]
  },
  {
   "attachments": {},
   "cell_type": "markdown",
   "metadata": {},
   "source": [
    "### Numeric\n",
    "**BIT(Size)**\tIt is used for a bit-value type. The number of bits per value is specified in size. Its size can be 1 to 64. The default value is 1.  \n",
    "**INT(size)**\tIt is used for the integer value. Its signed range varies from -2147483648 to 2147483647 and unsigned range varies from 0 to 4294967295. The size parameter specifies the max display width that is 255.  \n",
    "**INTEGER(size)**\tIt is equal to INT(size).  \n",
    "**FLOAT(size, d)**\tIt is used to specify a floating point number. Its size parameter specifies the total number of digits. The number of digits after the decimal point is specified by d parameter.  \n",
    "**FLOAT(p)**\tIt is used to specify a floating point number. MySQL used p parameter to determine whether to use FLOAT or DOUBLE. If p is between 0 to24, the data type becomes FLOAT (). If p is from 25 to 53, the data type becomes DOUBLE().  \n",
    "**DOUBLE(size, d)**\tIt is a normal size floating point number. Its size parameter specifies the total number of digits. The number of digits after the decimal is specified by d parameter.  \n",
    "**DECIMAL(size, d)**\tIt is used to specify a fixed point number. Its size parameter specifies the total number of digits. The number of digits after the decimal parameter is specified by d parameter. The maximum value for the size is 65, and the default value is 10. The maximum value for d is 30, and the default value is 0.  \n",
    "**DEC(size, d)**\tIt is equal to DECIMAL(size, d).  \n",
    "**BOOL**\tIt is used to specify Boolean values true and false. Zero is considered as false, and nonzero values are considered as true.  "
   ]
  },
  {
   "attachments": {},
   "cell_type": "markdown",
   "metadata": {},
   "source": [
    "### Date and Time\n",
    "**DATE**\tIt is used to specify date format YYYY-MM-DD. Its supported range is from '1000-01-01' to '9999-12-31'.  \n",
    "**DATETIME(fsp)**\tIt is used to specify date and time combination. Its format is YYYY-MM-DD hh:mm:ss. Its supported range is from '1000-01-01 00:00:00' to 9999-12-31 23:59:59'.  \n",
    "**TIMESTAMP(fsp)**\tIt is used to specify the timestamp. Its value is stored as the number of seconds since the Unix epoch('1970-01-01 00:00:00' UTC). Its format is YYYY-MM-DD hh:mm:ss. Its supported range is from '1970-01-01 00:00:01' UTC to '2038-01-09 03:14:07' UTC.  \n",
    "**TIME(fsp)**\tIt is used to specify the time format. Its format is hh:mm:ss. Its supported range is from '-838:59:59' to '838:59:59'  \n",
    "**YEAR**\tIt is used to specify a year in four-digit format. Values allowed in four digit format from 1901 to 2155, and 0000.  \n"
   ]
  },
  {
   "attachments": {},
   "cell_type": "markdown",
   "metadata": {},
   "source": [
    "*Taken from https://www.javatpoint.com/sql-data-types, where u can see \"SQL Server\" and \"Oracle\" Data Types aswell*"
   ]
  },
  {
   "attachments": {},
   "cell_type": "markdown",
   "metadata": {},
   "source": [
    "## **Commands & Functions A-Z**"
   ]
  },
  {
   "attachments": {},
   "cell_type": "markdown",
   "metadata": {},
   "source": [
    "**AND|OR** - AND combines two or more conditions for a single query. All of the conditions used with this operator must be met in order to show the results.  \n",
    "OR is used similarly, but it will output result with rows that comply with either of the conditions."
   ]
  },
  {
   "attachments": {},
   "cell_type": "markdown",
   "metadata": {},
   "source": [
    "**ALTER TABLE** - ALTER TABLE allows you to add or remove columns from a table."
   ]
  },
  {
   "attachments": {},
   "cell_type": "markdown",
   "metadata": {},
   "source": [
    "**AS (alias)** - AS allows you to rename a column or table to a more convenient alias (a correlation name) without changing the original names in the database. This makes writing queries easier when the original table or column names are long or complicated."
   ]
  },
  {
   "attachments": {},
   "cell_type": "markdown",
   "metadata": {},
   "source": [
    "**AUTO_INCREMENT** - AUTO_INCREMENT is used in MySQL to create a numerical primary key value for each additional row of data."
   ]
  },
  {
   "attachments": {},
   "cell_type": "markdown",
   "metadata": {},
   "source": [
    "**BETWEEN** - BETWEEN operator filters the results and returns only the ones that fit the specified range. You can describe the value of this operator using dates, numbers, or text."
   ]
  },
  {
   "attachments": {},
   "cell_type": "markdown",
   "metadata": {},
   "source": [
    "**BIN()** - Converts a decimal number to a binary number."
   ]
  },
  {
   "attachments": {},
   "cell_type": "markdown",
   "metadata": {},
   "source": [
    "**BINARY()** - Converts a value to a binary string"
   ]
  },
  {
   "attachments": {},
   "cell_type": "markdown",
   "metadata": {},
   "source": [
    "**CASE** - CASE is used to provide if-then-else type of logic to SQL. There are two formats: The first is a Simple CASE expression, where we compare an expression to static values. The second is a Searched CASE expression, where we compare an expression to one or more logical conditions."
   ]
  },
  {
   "attachments": {},
   "cell_type": "markdown",
   "metadata": {},
   "source": [
    "**COALESCE()** - Returns the first non-null expression in a list. The COALESCE() function examines the first expression, if the first expression is not null, it returns that expression; Otherwise, it does a COALESCE of the remaining expressions. The advantage of the COALESCE() function over the NVL() function is that the COALESCE function can take multiple alternate values."
   ]
  },
  {
   "attachments": {},
   "cell_type": "markdown",
   "metadata": {},
   "source": [
    "**COMMIT** - COMMIT command is for saving every transaction to the database."
   ]
  },
  {
   "attachments": {},
   "cell_type": "markdown",
   "metadata": {},
   "source": [
    "**CONNECTION_ID()** - Returns the unique connection ID for the current connection."
   ]
  },
  {
   "attachments": {},
   "cell_type": "markdown",
   "metadata": {},
   "source": [
    "**CREATE DATABASE** - When you need to create a new database, use the CREATE DATABASE statement. You must have admin rights to do that."
   ]
  },
  {
   "attachments": {},
   "cell_type": "markdown",
   "metadata": {},
   "source": [
    "**CREATE TABLE** - CREATE TABLE statement creates a new table in a database."
   ]
  },
  {
   "attachments": {},
   "cell_type": "markdown",
   "metadata": {},
   "source": [
    "**CREATE INDEX** - CREATE INDEX generates an index for a table. This enables retrieving data from a database faster. Users don't see indexes as they are only used to increase search speed."
   ]
  },
  {
   "attachments": {},
   "cell_type": "markdown",
   "metadata": {},
   "source": [
    "**CREATE VIEW** - CREATE VIEW creates a narrower version of an existing table by getting a set of results based on a certain query. A view is not much different from a real table: it contains columns and rows with data, but it doesn't contain the fields of the real table that are irrelevant for your particular purpose."
   ]
  },
  {
   "attachments": {},
   "cell_type": "markdown",
   "metadata": {},
   "source": [
    "**DATABASE()** - Returns the name of the default database."
   ]
  },
  {
   "attachments": {},
   "cell_type": "markdown",
   "metadata": {},
   "source": [
    "**DECODE** - DECODE is a function in Oracle and is used to provide if-then-else type of logic to SQL. It is not available in MySQL or SQL Server. Facilitates conditional inquiries by doing the work of a CASE or IF-THEN-ELSE statement. The DECODE function decodes expression after comparing it to each search value. If the expression is the same as search, result is returned.\n",
    "If the default value is omitted, a null value is returned where a search value does not match any of the result values."
   ]
  },
  {
   "attachments": {},
   "cell_type": "markdown",
   "metadata": {},
   "source": [
    "**DELETE** - If you need to remove certain rows from the table, use the DELETE FROM statement."
   ]
  },
  {
   "attachments": {},
   "cell_type": "markdown",
   "metadata": {},
   "source": [
    "**DROP DATABASE** - DROP DATABASE is one of the riskiest statements that should be used with extra caution. In SQL, drop means delete – and DROP DATABASE deletes the whole specified database together with all its parameters and data."
   ]
  },
  {
   "attachments": {},
   "cell_type": "markdown",
   "metadata": {},
   "source": [
    "**DROP INDEX** - DROP INDEX will delete the index you specify. The syntax of this statement varies based on the DB system used. In MySQL: ALTER TABLE tbl_name DROP INDEX indx_name"
   ]
  },
  {
   "attachments": {},
   "cell_type": "markdown",
   "metadata": {},
   "source": [
    "**DROP TABLE** - DROP TABLE statement deletes the whole table with its column parameters and datatype settings. If you want to remove only the contents of the rows but keep the table itself, use another statement – TRUNCATE TABLE."
   ]
  },
  {
   "attachments": {},
   "cell_type": "markdown",
   "metadata": {},
   "source": [
    "**EXISTS** - EXISTS operator allows you to check whether a record exists by writing a subquery. If the record is found, the result is displayed based on the statement you use this operator with. You can use it with SELECT, UPDATE, INSERT, and DELETE."
   ]
  },
  {
   "attachments": {},
   "cell_type": "markdown",
   "metadata": {},
   "source": [
    "**GRANT** - GRANT command is for giving users the access to a database."
   ]
  },
  {
   "attachments": {},
   "cell_type": "markdown",
   "metadata": {},
   "source": [
    "**GROUP BY** - Combine GROUP BY with SELECT statement in order to arrange identical data (rows with the same value) into groups (summarizing rows)."
   ]
  },
  {
   "attachments": {},
   "cell_type": "markdown",
   "metadata": {},
   "source": [
    "**HAVING** - HAVING specifies that you need to filter the results to only the rows that fulfill the described condition.\n",
    "It performs the same action as the WHERE clause. The difference is that HAVING is used only for aggregate functions as WHERE doesn't work with them."
   ]
  },
  {
   "attachments": {},
   "cell_type": "markdown",
   "metadata": {},
   "source": [
    "**IDENTITY** - IDENTITY is used in Microsoft SQL Server to automatically insert numerical primary key values to a table as new data is inserted. This is similar to the AUTO INCREMENT command in MySQL."
   ]
  },
  {
   "attachments": {},
   "cell_type": "markdown",
   "metadata": {},
   "source": [
    "**IF()** - Returns one value if a condition is TRUE, or another value if a condition is FALSE."
   ]
  },
  {
   "attachments": {},
   "cell_type": "markdown",
   "metadata": {},
   "source": [
    "**IN** - The IN operator includes multiple values into the WHERE clause."
   ]
  },
  {
   "attachments": {},
   "cell_type": "markdown",
   "metadata": {},
   "source": [
    "**(Inline View)** - An inline view is a SELECT statement in the FROM clause. A view is a virtual table that has the characteristics of a table yet does not hold any actual data. In an inline view construct, instead of specifying table name(s) after the FROM keyword, the source of the data actually comes from the inline view."
   ]
  },
  {
   "attachments": {},
   "cell_type": "markdown",
   "metadata": {},
   "source": [
    "**INSERT INTO** - INSERT INTO statement inserts new rows of data into a table."
   ]
  },
  {
   "attachments": {},
   "cell_type": "markdown",
   "metadata": {},
   "source": [
    "**INNER JOIN** - INNER JOIN combines rows from different tables."
   ]
  },
  {
   "attachments": {},
   "cell_type": "markdown",
   "metadata": {},
   "source": [
    "**INTERSECT** - The INTERSECT command in SQL combines the results of two SQL statement and returns only data that are present in both SQL statements. INTERSECT can be thought of as an AND operator (value is selected only if it appears in both statements), while UNION and UNION ALL can be thought of as an OR operator (value is selected if it appears in either the first or the second statement)."
   ]
  },
  {
   "attachments": {},
   "cell_type": "markdown",
   "metadata": {},
   "source": [
    "**LEFT JOIN** - LEFT JOIN retrieves records from the left table that match records in the right table. Some databases have a slightly different statement for this – LEFT OUTER JOIN."
   ]
  },
  {
   "attachments": {},
   "cell_type": "markdown",
   "metadata": {},
   "source": [
    "**RIGHT JOIN** - RIGHT JOIN retrieves records from the right table that match records in the left table. Some databases call this statement differently – RIGHT OUTER JOIN."
   ]
  },
  {
   "attachments": {},
   "cell_type": "markdown",
   "metadata": {},
   "source": [
    "**FULL JOIN** - FULL (OUTER) JOIN returns all the records that match either in left or right tables."
   ]
  },
  {
   "attachments": {},
   "cell_type": "markdown",
   "metadata": {},
   "source": [
    "**LAST_INSERT_ID()** - Returns the first AUTO_INCREMENT value that was set by the most recent INSERT or UPDATE statement."
   ]
  },
  {
   "attachments": {},
   "cell_type": "markdown",
   "metadata": {},
   "source": [
    "**LIKE** - Combine LIKE with the WHERE clause for finding specific patterns in columns."
   ]
  },
  {
   "attachments": {},
   "cell_type": "markdown",
   "metadata": {},
   "source": [
    "**LNNVL()** - LNNVL evaluate a condition when one or both operands of the condition may be null. The function can be used only in the WHERE clause of a query. It takes as an argument a condition and returns TRUE if the condition is FALSE or UNKNOWN and FALSE if the condition is TRUE."
   ]
  },
  {
   "attachments": {},
   "cell_type": "markdown",
   "metadata": {},
   "source": [
    "**MINUS** - The MINUS command operates on two SQL statements. It takes all the results from the first SQL statement, and then subtract out the ones that are present in the second SQL statement to get the final result set. If the second SQL statement includes results not present in the first SQL statement, such results are ignored."
   ]
  },
  {
   "attachments": {},
   "cell_type": "markdown",
   "metadata": {},
   "source": [
    "**NANVL()** - The NANVL function is useful only for floating-point numbers of type BINARY_FLOAT or BINARY_DOUBLE. It instructs the Database to return an alternative value n2 if the input value n1 is NaN (not a number). If n1 is not NaN, then database returns n1. This function is useful for mapping NaN values to NULL."
   ]
  },
  {
   "attachments": {},
   "cell_type": "markdown",
   "metadata": {},
   "source": [
    "**NVL(expr1, expr2)** - NVL() converts a null value to an actual value. Data types that can be used are date, character and number. Data type must match with each other i.e. expr1 and expr2 must of same data type."
   ]
  },
  {
   "attachments": {},
   "cell_type": "markdown",
   "metadata": {},
   "source": [
    "**NVL2(expr1, expr2, expr3)** - The NVL2 function examines the first expression. If the first expression is not null, then the NVL2 function returns the second expression. If the first expression is null, then the third expression is returned i.e. If expr1 is not null, NVL2 returns expr2. If expr1 is null, NVL2 returns expr3. The argument expr1 can have any data type."
   ]
  },
  {
   "attachments": {},
   "cell_type": "markdown",
   "metadata": {},
   "source": [
    "**NULLIF()** - Returns the first expression if the two expressions are not equal. If the expressions are equal, NULLIF returns a null value of the type of the first expression."
   ]
  },
  {
   "attachments": {},
   "cell_type": "markdown",
   "metadata": {},
   "source": [
    "**ORDER BY** - ORDER BY sets the order (ascending by default) of result records."
   ]
  },
  {
   "attachments": {},
   "cell_type": "markdown",
   "metadata": {},
   "source": [
    "**REVOKE** - REVOKE command is for taking away users's permisions."
   ]
  },
  {
   "attachments": {},
   "cell_type": "markdown",
   "metadata": {},
   "source": [
    "**ROLLBACK** - ROLLBACK command is for undoing transactions which are not saved to the database."
   ]
  },
  {
   "attachments": {},
   "cell_type": "markdown",
   "metadata": {},
   "source": [
    "**SAVEPOINT** - SAVEPOINT command is for returning a transaction to a specific point without affecting the whole transaction."
   ]
  },
  {
   "attachments": {},
   "cell_type": "markdown",
   "metadata": {},
   "source": [
    "**SELECT** - SELECT is one of the main SQL statements. It selects data from a database and returns the table of results, called the result-set.  \n",
    "SELECT used with an asterisk * operator selects all data records from a specified table."
   ]
  },
  {
   "attachments": {},
   "cell_type": "markdown",
   "metadata": {},
   "source": [
    "**SELECT DISTINCT** - SELECT DISTINCT returns only the data that is distinct, and does not include duplicate entries."
   ]
  },
  {
   "attachments": {},
   "cell_type": "markdown",
   "metadata": {},
   "source": [
    "**SELECT INTO** - SELECT INTO statement selects specified data in a table and copies it to another table."
   ]
  },
  {
   "attachments": {},
   "cell_type": "markdown",
   "metadata": {},
   "source": [
    "**SELECT TOP** - SELECT TOP specifies the maximum number or percentage of data entries to return in a result-set."
   ]
  },
  {
   "attachments": {},
   "cell_type": "markdown",
   "metadata": {},
   "source": [
    "**SESSION_USER()** - Returns the user name and host name for the current MySQL user."
   ]
  },
  {
   "attachments": {},
   "cell_type": "markdown",
   "metadata": {},
   "source": [
    "**SYSTEM_USER()** - Returns the user name and host name for the current MySQL user."
   ]
  },
  {
   "attachments": {},
   "cell_type": "markdown",
   "metadata": {},
   "source": [
    "**TRUNCATE TABLE** - TRUNCATE TABLE removes data entries from a table in a database, but keeps the table, its datatype and column parameters."
   ]
  },
  {
   "attachments": {},
   "cell_type": "markdown",
   "metadata": {},
   "source": [
    "**UNION** - You can combine multiple result-sets using the UNION operator with two or more SELECT statements."
   ]
  },
  {
   "attachments": {},
   "cell_type": "markdown",
   "metadata": {},
   "source": [
    "**UNION ALL** - UNION ALL is used to combine two or more result-sets and keep all the duplicate data entries."
   ]
  },
  {
   "attachments": {},
   "cell_type": "markdown",
   "metadata": {},
   "source": [
    "**UPDATE** - UPDATE statement is used with the WHERE clause to update data in the table."
   ]
  },
  {
   "attachments": {},
   "cell_type": "markdown",
   "metadata": {},
   "source": [
    "**USER()** - Returns the user name and host name for the current MySQL user."
   ]
  },
  {
   "attachments": {},
   "cell_type": "markdown",
   "metadata": {},
   "source": [
    "**WHERE** - WHERE clause specifies your query to filter only the results that satisfy your set condition.  \n",
    "WHERE doesn't work with the aggregate functions, for that purpose, use HAVING instead."
   ]
  },
  {
   "attachments": {},
   "cell_type": "markdown",
   "metadata": {},
   "source": [
    "**VERSION()** - Returns the version of the MySQL database."
   ]
  },
  {
   "attachments": {},
   "cell_type": "markdown",
   "metadata": {},
   "source": [
    "## **Wildcard Characters**\n",
    "\n",
    "*Wildcards are used in SQL to match a string pattern. There are two types of wildcards:*  \n",
    "* % (percent sign) represents zero, one, or more characters.  \n",
    "* _ (underscore) represents exactly one character.  \n",
    "\n",
    "*Wildcards are used with the LIKE operator in SQL.*\n",
    "\n",
    "### Examples:\n",
    "* **'A_Z'**: All string that starts with 'A', another character, and end with 'Z'. For example, 'ABZ' and 'A2Z' would both satisfy the condition, while 'AKKZ' would not (because there are two characters between A and Z instead of one).\n",
    "* **'ABC%'**: All strings that start with 'ABC'. For example, 'ABCD' and 'ABCABC' would both satisfy the condition.\n",
    "* **'%XYZ'**: All strings that end with 'XYZ'. For example, 'WXYZ' and 'ZZXYZ' would both satisfy the condition.\n",
    "* **'%AN%'**: All strings that contain the pattern 'AN' anywhere. For example, 'LOS ANGELES' and 'SAN FRANCISCO' would both satisfy the condition.\n",
    "* **'_AN%'**: All strings that contain a character, then 'AN', followed by anything else. For example, 'SAN FRANCISCO' would satisfy the condition, while 'LOS ANGELES' would not satisfy the condition."
   ]
  },
  {
   "attachments": {},
   "cell_type": "markdown",
   "metadata": {},
   "source": [
    "## **SQL Injection**\n",
    "\n",
    "### Examples\n",
    "*There are a wide variety of SQL injection vulnerabilities, attacks, and techniques, which arise in different situations. Some common SQL injection examples include:*\n",
    "\n",
    "* Retrieving hidden data, where you can modify an SQL query to return additional results.\n",
    "* Subverting application logic, where you can change a query to interfere with the application's logic.\n",
    "* UNION attacks, where you can retrieve data from different database tables.\n",
    "* Examining the database, where you can extract information about the version and structure of the database.\n",
    "* Blind SQL injection, where the results of a query you control are not returned in the application's responses."
   ]
  },
  {
   "attachments": {},
   "cell_type": "markdown",
   "metadata": {},
   "source": [
    "### **Sources**\n",
    "\n",
    "* *https://en.wikipedia.org/wiki/SQL*\n",
    "* *https://towardsdatascience.com/a-look-into-sqls-order-of-execution-d0b81e361c66*\n",
    "* *https://www.javatpoint.com/dbms-sql-command*\n",
    "* *https://www.javatpoint.com/sql-data-types*\n",
    "* *https://www.bitdegree.org/learn/sql-commands-list*\n",
    "* *https://www.bitdegree.org/learn/sql-wildcard*\n",
    "* *https://portswigger.net/web-security/sql-injection*\n",
    "* *https://www.1keydata.com/sql/advanced.html*\n",
    "* *https://www.1keydata.com/sql/sql-wildcard.html*\n",
    "* *https://www.geeksforgeeks.org/sql-advanced-functions/*"
   ]
  },
  {
   "attachments": {},
   "cell_type": "markdown",
   "metadata": {},
   "source": [
    "### **Ⓦя𝐢ttＥŇ, 𝓬σｐ𝐢Ｅ𝓭 ＡŇ𝓭 Ｅ𝓭𝐢tＥ𝓭 ᵇ𝕪 Ａ𝔩Ｅ𝐗 𝓭σ𝔩𝓬𝓱**"
   ]
  }
 ],
 "metadata": {
  "kernelspec": {
   "display_name": "Python 3",
   "language": "python",
   "name": "python3"
  },
  "language_info": {
   "name": "python",
   "version": "3.9.13 (main, Aug 25 2022, 23:51:50) [MSC v.1916 64 bit (AMD64)]"
  },
  "orig_nbformat": 4,
  "vscode": {
   "interpreter": {
    "hash": "c62e2d0e8abf7e03d5de1dc8eac23fc17ec23d48f7a7e8acd70fd152f0b9a83e"
   }
  }
 },
 "nbformat": 4,
 "nbformat_minor": 2
}
